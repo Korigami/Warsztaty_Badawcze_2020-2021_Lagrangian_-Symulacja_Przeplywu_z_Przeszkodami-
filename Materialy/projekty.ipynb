{
 "cells": [
  {
   "cell_type": "markdown",
   "metadata": {},
   "source": [
    "# Ogólne zadady przedmiotu"
   ]
  },
  {
   "cell_type": "markdown",
   "metadata": {},
   "source": [
    "Ocena z laboratorium jest określana na podstawie punktów zdobytych z projektu grupowego. Każda grupa realizuje projekt wspólnie oraz uzgadnia wewnętrznie jaki procent punktów z projektu przypada każdej z osób. W razie barku konsensusu wobec tego podziału procenty ustali prowadzący zaznajamiając się z wkładem pracy każdego studenta. \n",
    "Ocenie podlegają:\n",
    "* kod źródłowy powstały w ramach projektu\n",
    "* raport w tym zawartość merytoryczna jak i walory estetyczne (w tym rysunki)\n",
    "* prezentacja \n",
    "\n",
    "W połowie semestru (ok 8 zajęcia) odbędzie sie rozmowa prowadzącego z każdą grupą na temat postępów oraz ogólne wizji projektu. \n",
    "Kod należy wysłać prowadzącemu do 13 zajęć. \n",
    "Raport należy wysłać do 14 zajęć.\n",
    "Prezentacje projektów odbędą się na ostatnich 15 zajęciach. \n",
    "\n",
    "Do wyboru są 3 projekty:\n",
    "- PNM (Pore Network Modelling) \n",
    "- Lattice Boltzmann\n",
    "- Lagrangian Soler\n",
    "\n",
    "Każdy zespół może zgłosić swój własny temat i będzie mogł go realizować po wcześniejszym zaakceptowaiu przez prowadzącego. \n",
    "Podstawowe materiały są dostępne w katalogach przedmiotu. \n",
    "Każdy projekt może być realizowany tlko przez jedną grupę i o wyborze tematów decyduje zasada \"kto pierwszy ten lepszy\". \n",
    "\n",
    "Poniżeej znajdują się opisy projektów."
   ]
  },
  {
   "cell_type": "markdown",
   "metadata": {},
   "source": [
    "# PNM "
   ]
  },
  {
   "cell_type": "markdown",
   "metadata": {},
   "source": [
    "Projekt polega na napisaniu kodu który pozroli na symulację przepływu poprzez ciało prowate. Ciało porowate jest zadane przy pomocy bitmap. W pierwszym kroku trzeba zaimplementować algorytm SNOW który dokona konwersji struktury 3D na graf. Następnie trzeba zaimplementować symulację przepływy przez graf przy pomocy zasad zachowania. Więcej informacji znajdziesz w katalogach z projektem. \n",
    "\n",
    "Przykładowe geometriee miożna znaleść tu: https://www.digitalrocksportal.org/projects/317"
   ]
  },
  {
   "cell_type": "markdown",
   "metadata": {},
   "source": [
    "# Lattice Boltzmann"
   ]
  },
  {
   "cell_type": "markdown",
   "metadata": {},
   "source": [
    "Zadanie polega na zaimplentowaniu metodyy Lattice-Boltzmanna i użyciu jej do zasymulawania przepływu poprzez kanał z przeszkodami."
   ]
  },
  {
   "cell_type": "markdown",
   "metadata": {},
   "source": [
    "# Laggrangian Solver"
   ]
  },
  {
   "cell_type": "markdown",
   "metadata": {},
   "source": [
    "Projekt polega na zaimplementowaniu metody pozwalającej na zasymulawanie trajektorii cząstek w 3D. Cząstki mogą zderzać sie z przeszkodami które sa wczytywane do programu w postaci plików STL. Przykładowe geometrie można pobrać ze strony http://www.ozeki.hu/p_1116-sample-stl-files-you-can-use-for-testing.html. Warto zadbać o szybkie wykonywanie kodu poprzez wykorzystanie paralelizacji oraz implementacji algorytmów zmiejszające liczę sprawdzeń kolizji cząstek ze ścianą np. QuadTree badź Z-number\n"
   ]
  },
  {
   "cell_type": "code",
   "execution_count": null,
   "metadata": {},
   "outputs": [],
   "source": []
  }
 ],
 "metadata": {
  "kernelspec": {
   "display_name": "Python 3",
   "language": "python",
   "name": "python3"
  },
  "language_info": {
   "codemirror_mode": {
    "name": "ipython",
    "version": 3
   },
   "file_extension": ".py",
   "mimetype": "text/x-python",
   "name": "python",
   "nbconvert_exporter": "python",
   "pygments_lexer": "ipython3",
   "version": "3.8.3"
  }
 },
 "nbformat": 4,
 "nbformat_minor": 4
}
